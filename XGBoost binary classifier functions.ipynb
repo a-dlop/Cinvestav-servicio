{
 "cells": [
  {
   "cell_type": "code",
   "execution_count": 1,
   "metadata": {},
   "outputs": [],
   "source": [
    "import xgboost as xgb\n",
    "import numpy as np\n",
    "import pandas as pd\n",
    "import matplotlib.pyplot as plt\n",
    "from sklearn.model_selection import train_test_split\n",
    "from sklearn.metrics import accuracy_score\n",
    "from sklearn.metrics import roc_curve\n",
    "from sklearn.metrics import roc_auc_score\n",
    "\n",
    "def importance(modelo,num):\n",
    "    xgb_fea_imp=pd.DataFrame(list(modelo.get_booster().get_score().items()),\n",
    "    columns=['Caracteristica','importancia']).sort_values('importancia', ascending=False)\n",
    "    print('',xgb_fea_imp)\n",
    "    xgb_fea_imp.to_csv('xgb_feat_imp'+str(num)+'.cvs')\n",
    "\n",
    "    from xgboost import plot_importance\n",
    "    \n",
    "    ax = plot_importance(modelo, )\n",
    "    ax.figure.savefig('xgb_feat_imp'+str(num)+'png')\n",
    "\n",
    "def Openfile(nombre):\n",
    "    a=pd.read_pickle(nombre)\n",
    "    a=a[['Bpt' ,'kpt' ,'PDL' ,'prob' ,'cosA' ,'signLxy']]\n",
    "    return  a\n",
    "def clasification(signal,bkgnd):\n",
    "    bkgnd['signal/bkgnd'] = 0\n",
    "    signal['signal/bkgnd'] = 1\n",
    "    df=pd.concat([signal,bkgnd])\n",
    "    return df\n",
    "def sets(df,signal,bkgnd):\n",
    "    train_x = df.drop(['signal/bkgnd'], axis=1) #features = all minus (signal/bkgnd and masses)\n",
    "    train_y = df['signal/bkgnd'] \n",
    "    \n",
    "    signal_x = signal.drop(['signal/bkgnd'], axis=1) \n",
    "    signal_y = signal['signal/bkgnd']\n",
    "    \n",
    "    bkgnd_x = bkgnd.drop(['signal/bkgnd'], axis=1)\n",
    "    bkgnd_y = bkgnd['signal/bkgnd']\n",
    "\n",
    "    train_signal_x, test_signal_x, train_signal_y, test_signal_y = train_test_split(signal_x, signal_y, \n",
    "                                                  test_size=0.5, \n",
    "                                                  random_state=1)\n",
    "    train_bkgnd_x, test_bkgnd_x, train_bkgnd_y, test_bkgnd_y = train_test_split(bkgnd_x, bkgnd_y, \n",
    "                                                      test_size=0.5, \n",
    "                                                      random_state=1)\n",
    "    \n",
    "    test_x = test_signal_x.append(test_bkgnd_x)\n",
    "    test_y = test_signal_y.append(test_bkgnd_y)\n",
    "    \n",
    "    train_x = train_signal_x.append(train_bkgnd_x)\n",
    "    train_y = train_signal_y.append(train_bkgnd_y)\n",
    "    return test_x,test_y,train_x,train_y,train_signal_x, test_signal_x, train_signal_y, test_signal_y,train_bkgnd_x, test_bkgnd_x, train_bkgnd_y, test_bkgnd_y\n",
    "def prediction(model,test_signal_x,test_signal_y,test_bkgnd_x,test_bkgnd_y,train_signal_x,train_bkgnd_x):\n",
    "    predict_signal_test =  model.predict_proba(test_signal_x)[:,1]\n",
    "    predict_signal_train =  model.predict_proba(train_signal_x)[:,1]\n",
    "    \n",
    "    predict_back_test = model.predict_proba(test_bkgnd_x)[:,1]\n",
    "    predict_back_train = model.predict_proba(train_bkgnd_x)[:,1]\n",
    "    return predict_signal_test,predict_signal_train,predict_back_test,predict_back_train\n",
    "\n",
    "def signaloverfit(predict_signal_test,predict_signal_train):\n",
    "    plt.figure(figsize=(10,7))\n",
    "    plt.title('Signal overfit')\n",
    "    m = plt.hist(predict_signal_test, bins=20, label='Test', color='olive')\n",
    "    plt.hist(predict_signal_train, bins=m[1], label='Train', \n",
    "             histtype='stepfilled', facecolor='none', edgecolor='red',\n",
    "            hatch='////')\n",
    "    plt.legend(fontsize=13)\n",
    "    plt.yscale('log')\n",
    "    plt.show()\n",
    "    return 0\n",
    "def overfitting(predict_signal_test,predict_signal_train,predict_back_test,predict_back_train):\n",
    "    plt.figure(figsize=(10,7))\n",
    "    plt.title('Overfitting')\n",
    "    m = plt.hist(predict_signal_test, bins=20, label='Test Signal', facecolor='lightgreen', edgecolor=\"darkgreen\",\n",
    "                 histtype='stepfilled', alpha=0.8)\n",
    "    train = np.histogram(predict_signal_train, bins=m[1])\n",
    "    bins_ = (train[1][1:]+train[1][:-1])/2\n",
    "    plt.errorbar(bins_, train[0],yerr=np.sqrt(train[0]), \n",
    "                     fmt='s', marker='o' ,color='darkgreen',\n",
    "                    barsabove=False, capsize=5, label='Train Signal')\n",
    "    \n",
    "    plt.hist(predict_back_test, bins=m[1], label='Test Background',\n",
    "                 histtype='stepfilled', facecolor='none', edgecolor='crimson', hatch= '\\\\\\\\', alpha=0.8)\n",
    "    train2 = np.histogram(predict_back_train, bins=m[1])\n",
    "    bins_2 = (train2[1][1:]+train2[1][:-1])/2\n",
    "    plt.errorbar(bins_2, train2[0],yerr=np.sqrt(train[0]), \n",
    "                     fmt='s', marker='o' ,color='red',\n",
    "                    barsabove=False, capsize=5, label='Train Background')\n",
    "    plt.legend(fontsize=13)\n",
    "    plt.yscale('log')\n",
    "    plt.ylim(1, 200000)\n",
    "    plt.xlim(0, 1)\n",
    "    plt.ylabel('Events', fontsize=13)\n",
    "    plt.xlabel('XGBoost output', fontsize=13)\n",
    "    plt.show()\n",
    "\n",
    "    return 0\n",
    "def roc(test_x,test_y,train_x,train_y):\n",
    "    plt.figure(figsize=(10,7))\n",
    "    plt.title('ROC curve', fontsize=13)\n",
    "    model_predict = model.predict_proba(test_x)\n",
    "    model_predict = model_predict[:,1]\n",
    "    auc_score = roc_auc_score(test_y, model_predict) \n",
    "    fpr, tpr, _ = roc_curve(test_y, model_predict) #roc_curve(true binary labels, prediction scores)\n",
    "    print('Test : ', auc_score)\n",
    "    plt.plot(tpr, 1-fpr, label='Test   '+ str(round(auc_score, 4)), color='purple')\n",
    "    \n",
    "    model_predict = model.predict_proba(train_x)\n",
    "    model_predict = model_predict[:,1]\n",
    "    auc_score = roc_auc_score(train_y, model_predict)\n",
    "    fpr, tpr, _ = roc_curve(train_y, model_predict)\n",
    "    plt.plot(tpr, 1-fpr, label='Train   ' + str(round(auc_score,4)) , color='orange', linewidth=3)\n",
    "    print('Train : ', auc_score)\n",
    "    plt.legend(fontsize=13)\n",
    "    plt.ylabel('background rejection', fontsize=13)\n",
    "    plt.xlabel('Signal efficiency', fontsize=13)\n",
    "    plt.show() \n",
    "\n",
    "    return 0"
   ]
  },
  {
   "cell_type": "code",
   "execution_count": 2,
   "metadata": {},
   "outputs": [
    {
     "name": "stdout",
     "output_type": "stream",
     "text": [
      "96.55 %\n"
     ]
    }
   ],
   "source": [
    "signal=Openfile('5_signal.pkl')\n",
    "bkgnd=Openfile('5_back.pkl')\n",
    "df=clasification(signal,bkgnd)\n",
    "test_x,test_y,train_x,train_y,train_signal_x, test_signal_x, train_signal_y, test_signal_y,train_bkgnd_x, test_bkgnd_x, train_bkgnd_y, test_bkgnd_y=sets(df,signal,bkgnd)\n",
    "model = xgb.XGBClassifier(objective = 'binary:logistic', \n",
    "                              max_depth=6, \n",
    "                              learning_rate=0.3,\n",
    "                             reg_lambda=1000)\n",
    "model.fit(train_x, train_y)\n",
    "\n",
    "predict_signal = model.predict(test_x)\n",
    "print(np.round(accuracy_score(test_y,predict_signal)*100, 2),'%')\n",
    "\n",
    "predict_signal_test,predict_signal_train,predict_back_test,predict_back_train=prediction(model,test_signal_x,test_signal_y,test_bkgnd_x,test_bkgnd_y,train_signal_x,train_bkgnd_x)\n",
    "\n"
   ]
  },
  {
   "cell_type": "code",
   "execution_count": 3,
   "metadata": {},
   "outputs": [
    {
     "data": {
      "image/png": "[encoded data removed]",
      "text/plain": [
       "<Figure size 720x504 with 1 Axes>"
      ]
     },
     "metadata": {
      "needs_background": "light"
     },
     "output_type": "display_data"
    },
    {
     "data": {
      "text/plain": [
       "0"
      ]
     },
     "execution_count": 3,
     "metadata": {},
     "output_type": "execute_result"
    }
   ],
   "source": [
    "signaloverfit(predict_signal_test,predict_signal_train)"
   ]
  },
  {
   "cell_type": "code",
   "execution_count": null,
   "metadata": {},
   "outputs": [],
   "source": [
    "\n",
    "overfitting(predict_signal_test,predict_signal_train,predict_back_test,predict_back_train)\n"
   ]
  },
  {
   "cell_type": "code",
   "execution_count": null,
   "metadata": {},
   "outputs": [],
   "source": [
    "roc(test_x,test_y,train_x,train_y)"
   ]
  }
 ],
 "metadata": {
  "kernelspec": {
   "display_name": "Python 3",
   "language": "python",
   "name": "python3"
  },
  "language_info": {
   "codemirror_mode": {
    "name": "ipython",
    "version": 3
   },
   "file_extension": ".py",
   "mimetype": "text/x-python",
   "name": "python",
   "nbconvert_exporter": "python",
   "pygments_lexer": "ipython3",
   "version": "3.7.3"
  }
 },
 "nbformat": 4,
 "nbformat_minor": 2
}
