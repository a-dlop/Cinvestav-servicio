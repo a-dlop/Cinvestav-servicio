{
 "cells": [
  {
   "cell_type": "code",
   "execution_count": null,
   "metadata": {},
   "outputs": [],
   "source": [
    "import xgboost as xgb\n",
    "import numpy as np\n",
    "import pandas as pd\n",
    "import matplotlib.pyplot as plt\n",
    "from sklearn.model_selection import train_test_split\n",
    "from sklearn.metrics import accuracy_score\n",
    "from sklearn.metrics import roc_curve\n",
    "from sklearn.metrics import roc_auc_score\n"
   ]
  },
  {
   "cell_type": "markdown",
   "metadata": {},
   "source": [
    "La función importance recibe como parametros un modelo de XGBoost y un nombre.\n",
    "Devuelve una tabla y gráfica de los $F_{score}$ de cada caracteristica ordenados de mayor a menor.\n",
    "También guarda la tabla y la gráfica en formato cvs y png"
   ]
  },
  {
   "cell_type": "code",
   "execution_count": null,
   "metadata": {},
   "outputs": [],
   "source": [
    "def importance(modelo,num):\n",
    "    xgb_fea_imp=pd.DataFrame(list(modelo.get_booster().get_score().items()),\n",
    "    columns=['Caracteristica','importancia']).sort_values('importancia', ascending=False)\n",
    "    print('',xgb_fea_imp)\n",
    "    xgb_fea_imp.to_csv('xgb_feat_imp'+str(num)+'.cvs')\n",
    "\n",
    "    from xgboost import plot_importance\n",
    "    \n",
    "    ax = plot_importance(modelo,importance_type='weight' )\n",
    "    ax.figure.savefig('xgb_feat_imp'+str(num)+'.png')"
   ]
  },
  {
   "cell_type": "markdown",
   "metadata": {},
   "source": [
    "Openfile(nombre), abre un archivo \"pkl\" y le añade las categorías de cada columna. Regresa una variable pandas.core.frame.DataFrame."
   ]
  },
  {
   "cell_type": "code",
   "execution_count": null,
   "metadata": {},
   "outputs": [],
   "source": [
    "def Openfile(nombre):\n",
    "    a=pd.read_pickle(nombre)\n",
    "    a=a[['Bpt' ,'kpt' ,'PDL' ,'prob' ,'cosA' ,'signLxy']]\n",
    "    return  a"
   ]
  },
  {
   "cell_type": "markdown",
   "metadata": {},
   "source": [
    "Clasification(signal,bkgnd). Recibe dos data frame de la señal y el fondo y les asigna a cada uno el valor 1 o 0 respectivamente. "
   ]
  },
  {
   "cell_type": "code",
   "execution_count": null,
   "metadata": {},
   "outputs": [],
   "source": [
    "def clasificacion(signal,bkgnd):\n",
    "    bkgnd['signal/bkgnd'] = 0\n",
    "    signal['signal/bkgnd'] = 1\n",
    "    df=pd.concat([signal,bkgnd])\n",
    "    return df\n"
   ]
  },
  {
   "cell_type": "code",
   "execution_count": null,
   "metadata": {},
   "outputs": [],
   "source": []
  },
  {
   "cell_type": "code",
   "execution_count": null,
   "metadata": {},
   "outputs": [],
   "source": []
  }
 ],
 "metadata": {
  "kernelspec": {
   "display_name": "Python 3",
   "language": "python",
   "name": "python3"
  },
  "language_info": {
   "codemirror_mode": {
    "name": "ipython",
    "version": 3
   },
   "file_extension": ".py",
   "mimetype": "text/x-python",
   "name": "python",
   "nbconvert_exporter": "python",
   "pygments_lexer": "ipython3",
   "version": "3.7.3"
  }
 },
 "nbformat": 4,
 "nbformat_minor": 2
}
